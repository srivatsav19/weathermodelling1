{
  "nbformat": 4,
  "nbformat_minor": 0,
  "metadata": {
    "colab": {
      "provenance": [],
      "authorship_tag": "ABX9TyMgSPZcY7FK4f9syHkKoXkt",
      "include_colab_link": true
    },
    "kernelspec": {
      "name": "python3",
      "display_name": "Python 3"
    },
    "language_info": {
      "name": "python"
    }
  },
  "cells": [
    {
      "cell_type": "markdown",
      "metadata": {
        "id": "view-in-github",
        "colab_type": "text"
      },
      "source": [
        "<a href=\"https://colab.research.google.com/github/srivatsav19/weathermodelling1/blob/main/weather_modelling.ipynb\" target=\"_parent\"><img src=\"https://colab.research.google.com/assets/colab-badge.svg\" alt=\"Open In Colab\"/></a>"
      ]
    },
    {
      "cell_type": "code",
      "execution_count": 2,
      "metadata": {
        "colab": {
          "base_uri": "https://localhost:8080/"
        },
        "id": "HPjzYMd_QUTj",
        "outputId": "ba456d92-4783-4545-e934-9bac6c094f7f"
      },
      "outputs": [
        {
          "output_type": "stream",
          "name": "stdout",
          "text": [
            "For time=5, the result is: 22.5\n"
          ]
        }
      ],
      "source": [
        "# Hardcoded coefficients and time\n",
        "a, b, c = 0.1, 2,10  # Coefficients\n",
        "time = 5  # Hardcoded time\n",
        "\n",
        "# Calculate the result of the formula\n",
        "result = a * (time**2) + b * time + c\n",
        "print(f\"For time={time}, the result is: {result}\")\n"
      ]
    },
    {
      "cell_type": "code",
      "source": [
        "# Accept variables and time from the user\n",
        "a = float(input(\"Enter coefficient a: \"))\n",
        "b = float(input(\"Enter coefficient b: \"))\n",
        "c = float(input(\"Enter coefficient c: \"))\n",
        "time = float(input(\"Enter time: \"))\n",
        "\n",
        "# Calculate the result of the formula\n",
        "result = a * (time**2) + b * time + c\n",
        "print(f\"For time={time}, the result is: {result}\")\n"
      ],
      "metadata": {
        "colab": {
          "base_uri": "https://localhost:8080/"
        },
        "id": "Kwkog9LjSN40",
        "outputId": "51dc8773-2253-4130-d4d9-3e3f74292204"
      },
      "execution_count": 4,
      "outputs": [
        {
          "output_type": "stream",
          "name": "stdout",
          "text": [
            "Enter coefficient a: 12\n",
            "Enter coefficient b: 2\n",
            "Enter coefficient c: 3\n",
            "Enter time: 5\n",
            "For time=5.0, the result is: 313.0\n"
          ]
        }
      ]
    },
    {
      "cell_type": "code",
      "source": [
        "# Read coefficients and time from a file\n",
        "file_path = \"weather_data.txt\"\n",
        "\n",
        "try:\n",
        "    with open(file_path, \"r\") as file:\n",
        "        for line in file:\n",
        "            a, b, c, time = map(float, line.split())\n",
        "            result = a * (time**2) + b * time + c\n",
        "            print(f\"For a={a}, b={b}, c={c}, time={time}, the result is: {result}\")\n",
        "except FileNotFoundError:\n",
        "    print(f\"File {file_path} not found. Please check the file path.\")\n"
      ],
      "metadata": {
        "colab": {
          "base_uri": "https://localhost:8080/"
        },
        "id": "CXjseun6Sap_",
        "outputId": "8714c471-3653-4ffc-d5b0-46bf4c9dd613"
      },
      "execution_count": 6,
      "outputs": [
        {
          "output_type": "stream",
          "name": "stdout",
          "text": [
            "For a=1.0, b=5.0, c=6.0, time=2.0, the result is: 20.0\n",
            "For a=1.0, b=3.0, c=2.0, time=1.0, the result is: 6.0\n",
            "For a=1.0, b=2.0, c=1.0, time=3.0, the result is: 16.0\n"
          ]
        }
      ]
    },
    {
      "cell_type": "code",
      "source": [
        "def process_single_input(a, b, c, time):\n",
        "    result = a * (time**2) + b * time + c\n",
        "    return f\"For a={a}, b={b}, c={c}, time={time}, the result is: {result}\"\n",
        "\n",
        "# Example usage\n",
        "print(process_single_input(1, 5, 6, 2))\n",
        "print(process_single_input(1, 2, 1, 3))\n"
      ],
      "metadata": {
        "colab": {
          "base_uri": "https://localhost:8080/"
        },
        "id": "jXiJ-1e1S5Ur",
        "outputId": "59eeb669-9ede-42b5-8276-5ad5bafffd50"
      },
      "execution_count": 7,
      "outputs": [
        {
          "output_type": "stream",
          "name": "stdout",
          "text": [
            "For a=1, b=5, c=6, time=2, the result is: 20\n",
            "For a=1, b=2, c=1, time=3, the result is: 16\n"
          ]
        }
      ]
    },
    {
      "cell_type": "code",
      "source": [
        "def process_multiple_inputs(file_path):\n",
        "    try:\n",
        "        with open(file_path, \"r\") as file:\n",
        "            results = []\n",
        "            for line in file:\n",
        "                a, b, c, time = map(float, line.split())\n",
        "                result = process_single_input(a, b, c, time)\n",
        "                results.append(result)\n",
        "            return results\n",
        "    except FileNotFoundError:\n",
        "        return [f\"File {file_path} not found.\"]\n",
        "\n",
        "# Example usage\n",
        "file_path = \"weather_data.txt\"\n",
        "results = process_multiple_inputs(file_path)\n",
        "for res in results:\n",
        "    print(res)\n"
      ],
      "metadata": {
        "colab": {
          "base_uri": "https://localhost:8080/"
        },
        "id": "zMOsypOhTYha",
        "outputId": "aa14b6a8-9639-468c-cbed-e59bece3eb13"
      },
      "execution_count": 8,
      "outputs": [
        {
          "output_type": "stream",
          "name": "stdout",
          "text": [
            "For a=1.0, b=5.0, c=6.0, time=2.0, the result is: 20.0\n",
            "For a=1.0, b=3.0, c=2.0, time=1.0, the result is: 6.0\n",
            "For a=1.0, b=2.0, c=1.0, time=3.0, the result is: 16.0\n"
          ]
        }
      ]
    }
  ]
}